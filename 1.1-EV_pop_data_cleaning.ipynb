{
 "cells": [
  {
   "cell_type": "markdown",
   "metadata": {},
   "source": [
    "# **Electric Vehicle Population Data Cleaning**"
   ]
  },
  {
   "cell_type": "code",
   "execution_count": 72,
   "metadata": {},
   "outputs": [],
   "source": [
    "import pandas as pd\n",
    "import sqlite3\n"
   ]
  },
  {
   "cell_type": "code",
   "execution_count": 73,
   "metadata": {},
   "outputs": [
    {
     "name": "stdout",
     "output_type": "stream",
     "text": [
      "<class 'pandas.core.frame.DataFrame'>\n",
      "RangeIndex: 177866 entries, 0 to 177865\n",
      "Data columns (total 17 columns):\n",
      " #   Column                                             Non-Null Count   Dtype  \n",
      "---  ------                                             --------------   -----  \n",
      " 0   VIN (1-10)                                         177866 non-null  object \n",
      " 1   County                                             177861 non-null  object \n",
      " 2   City                                               177861 non-null  object \n",
      " 3   State                                              177866 non-null  object \n",
      " 4   Postal Code                                        177861 non-null  float64\n",
      " 5   Model Year                                         177866 non-null  int64  \n",
      " 6   Make                                               177866 non-null  object \n",
      " 7   Model                                              177866 non-null  object \n",
      " 8   Electric Vehicle Type                              177866 non-null  object \n",
      " 9   Clean Alternative Fuel Vehicle (CAFV) Eligibility  177866 non-null  object \n",
      " 10  Electric Range                                     177866 non-null  int64  \n",
      " 11  Base MSRP                                          177866 non-null  int64  \n",
      " 12  Legislative District                               177477 non-null  float64\n",
      " 13  DOL Vehicle ID                                     177866 non-null  int64  \n",
      " 14  Vehicle Location                                   177857 non-null  object \n",
      " 15  Electric Utility                                   177861 non-null  object \n",
      " 16  2020 Census Tract                                  177861 non-null  float64\n",
      "dtypes: float64(3), int64(4), object(10)\n",
      "memory usage: 23.1+ MB\n"
     ]
    }
   ],
   "source": [
    "ev_pop_df = pd.read_csv(r'Electric_Vehicle_Population_Data.csv')\n",
    "ev_pop_df.info()\n"
   ]
  },
  {
   "cell_type": "markdown",
   "metadata": {},
   "source": [
    "### **Change the column names**"
   ]
  },
  {
   "cell_type": "code",
   "execution_count": 74,
   "metadata": {},
   "outputs": [
    {
     "name": "stdout",
     "output_type": "stream",
     "text": [
      "<class 'pandas.core.frame.DataFrame'>\n",
      "RangeIndex: 177866 entries, 0 to 177865\n",
      "Data columns (total 17 columns):\n",
      " #   Column             Non-Null Count   Dtype  \n",
      "---  ------             --------------   -----  \n",
      " 0   vin                177866 non-null  object \n",
      " 1   county             177861 non-null  object \n",
      " 2   city               177861 non-null  object \n",
      " 3   state              177866 non-null  object \n",
      " 4   postal_code        177861 non-null  float64\n",
      " 5   model_year         177866 non-null  int64  \n",
      " 6   make               177866 non-null  object \n",
      " 7   model              177866 non-null  object \n",
      " 8   ev_type            177866 non-null  object \n",
      " 9   cafv_eligibility   177866 non-null  object \n",
      " 10  range              177866 non-null  int64  \n",
      " 11  base_msrp          177866 non-null  int64  \n",
      " 12  district           177477 non-null  float64\n",
      " 13  dol_vehicle_id     177866 non-null  int64  \n",
      " 14  location           177857 non-null  object \n",
      " 15  electric_utility   177861 non-null  object \n",
      " 16  2020_census_tract  177861 non-null  float64\n",
      "dtypes: float64(3), int64(4), object(10)\n",
      "memory usage: 23.1+ MB\n"
     ]
    }
   ],
   "source": [
    "ev_pop_df.columns = (ev_pop_df.columns\n",
    "                     .str.replace(' ','_')\n",
    "                     .str.lower()\n",
    "                     )\n",
    "ev_pop_df = (ev_pop_df\n",
    "             .rename(columns={'vin_(1-10)':'vin',\n",
    "                              'electric_vehicle_type':'ev_type',\n",
    "                              'clean_alternative_fuel_vehicle_(cafv)_eligibility':'cafv_eligibility',\n",
    "                              'electric_range':'range',\n",
    "                              'legislative_district':'district',\n",
    "                              'vehicle_location':'location'\n",
    "                              }\n",
    "                     )\n",
    "             )\n",
    "ev_pop_df.info()  \n"
   ]
  },
  {
   "cell_type": "markdown",
   "metadata": {},
   "source": [
    "### **Preview the data**"
   ]
  },
  {
   "cell_type": "code",
   "execution_count": 75,
   "metadata": {},
   "outputs": [
    {
     "data": {
      "text/html": [
       "<div>\n",
       "<style scoped>\n",
       "    .dataframe tbody tr th:only-of-type {\n",
       "        vertical-align: middle;\n",
       "    }\n",
       "\n",
       "    .dataframe tbody tr th {\n",
       "        vertical-align: top;\n",
       "    }\n",
       "\n",
       "    .dataframe thead th {\n",
       "        text-align: right;\n",
       "    }\n",
       "</style>\n",
       "<table border=\"1\" class=\"dataframe\">\n",
       "  <thead>\n",
       "    <tr style=\"text-align: right;\">\n",
       "      <th></th>\n",
       "      <th>vin</th>\n",
       "      <th>county</th>\n",
       "      <th>city</th>\n",
       "      <th>state</th>\n",
       "      <th>postal_code</th>\n",
       "      <th>model_year</th>\n",
       "      <th>make</th>\n",
       "      <th>model</th>\n",
       "      <th>ev_type</th>\n",
       "      <th>cafv_eligibility</th>\n",
       "      <th>range</th>\n",
       "      <th>base_msrp</th>\n",
       "      <th>district</th>\n",
       "      <th>dol_vehicle_id</th>\n",
       "      <th>location</th>\n",
       "      <th>electric_utility</th>\n",
       "      <th>2020_census_tract</th>\n",
       "    </tr>\n",
       "  </thead>\n",
       "  <tbody>\n",
       "    <tr>\n",
       "      <th>0</th>\n",
       "      <td>5YJYGDEE1L</td>\n",
       "      <td>King</td>\n",
       "      <td>Seattle</td>\n",
       "      <td>WA</td>\n",
       "      <td>98122.0</td>\n",
       "      <td>2020</td>\n",
       "      <td>TESLA</td>\n",
       "      <td>MODEL Y</td>\n",
       "      <td>Battery Electric Vehicle (BEV)</td>\n",
       "      <td>Clean Alternative Fuel Vehicle Eligible</td>\n",
       "      <td>291</td>\n",
       "      <td>0</td>\n",
       "      <td>37.0</td>\n",
       "      <td>125701579</td>\n",
       "      <td>POINT (-122.30839 47.610365)</td>\n",
       "      <td>CITY OF SEATTLE - (WA)|CITY OF TACOMA - (WA)</td>\n",
       "      <td>5.303301e+10</td>\n",
       "    </tr>\n",
       "    <tr>\n",
       "      <th>1</th>\n",
       "      <td>7SAYGDEE9P</td>\n",
       "      <td>Snohomish</td>\n",
       "      <td>Bothell</td>\n",
       "      <td>WA</td>\n",
       "      <td>98021.0</td>\n",
       "      <td>2023</td>\n",
       "      <td>TESLA</td>\n",
       "      <td>MODEL Y</td>\n",
       "      <td>Battery Electric Vehicle (BEV)</td>\n",
       "      <td>Eligibility unknown as battery range has not b...</td>\n",
       "      <td>0</td>\n",
       "      <td>0</td>\n",
       "      <td>1.0</td>\n",
       "      <td>244285107</td>\n",
       "      <td>POINT (-122.179458 47.802589)</td>\n",
       "      <td>PUGET SOUND ENERGY INC</td>\n",
       "      <td>5.306105e+10</td>\n",
       "    </tr>\n",
       "    <tr>\n",
       "      <th>2</th>\n",
       "      <td>5YJSA1E4XK</td>\n",
       "      <td>King</td>\n",
       "      <td>Seattle</td>\n",
       "      <td>WA</td>\n",
       "      <td>98109.0</td>\n",
       "      <td>2019</td>\n",
       "      <td>TESLA</td>\n",
       "      <td>MODEL S</td>\n",
       "      <td>Battery Electric Vehicle (BEV)</td>\n",
       "      <td>Clean Alternative Fuel Vehicle Eligible</td>\n",
       "      <td>270</td>\n",
       "      <td>0</td>\n",
       "      <td>36.0</td>\n",
       "      <td>156773144</td>\n",
       "      <td>POINT (-122.34848 47.632405)</td>\n",
       "      <td>CITY OF SEATTLE - (WA)|CITY OF TACOMA - (WA)</td>\n",
       "      <td>5.303301e+10</td>\n",
       "    </tr>\n",
       "    <tr>\n",
       "      <th>3</th>\n",
       "      <td>5YJSA1E27G</td>\n",
       "      <td>King</td>\n",
       "      <td>Issaquah</td>\n",
       "      <td>WA</td>\n",
       "      <td>98027.0</td>\n",
       "      <td>2016</td>\n",
       "      <td>TESLA</td>\n",
       "      <td>MODEL S</td>\n",
       "      <td>Battery Electric Vehicle (BEV)</td>\n",
       "      <td>Clean Alternative Fuel Vehicle Eligible</td>\n",
       "      <td>210</td>\n",
       "      <td>0</td>\n",
       "      <td>5.0</td>\n",
       "      <td>165103011</td>\n",
       "      <td>POINT (-122.03646 47.534065)</td>\n",
       "      <td>PUGET SOUND ENERGY INC||CITY OF TACOMA - (WA)</td>\n",
       "      <td>5.303303e+10</td>\n",
       "    </tr>\n",
       "    <tr>\n",
       "      <th>4</th>\n",
       "      <td>5YJYGDEE5M</td>\n",
       "      <td>Kitsap</td>\n",
       "      <td>Suquamish</td>\n",
       "      <td>WA</td>\n",
       "      <td>98392.0</td>\n",
       "      <td>2021</td>\n",
       "      <td>TESLA</td>\n",
       "      <td>MODEL Y</td>\n",
       "      <td>Battery Electric Vehicle (BEV)</td>\n",
       "      <td>Eligibility unknown as battery range has not b...</td>\n",
       "      <td>0</td>\n",
       "      <td>0</td>\n",
       "      <td>23.0</td>\n",
       "      <td>205138552</td>\n",
       "      <td>POINT (-122.55717 47.733415)</td>\n",
       "      <td>PUGET SOUND ENERGY INC</td>\n",
       "      <td>5.303594e+10</td>\n",
       "    </tr>\n",
       "  </tbody>\n",
       "</table>\n",
       "</div>"
      ],
      "text/plain": [
       "          vin     county       city state  postal_code  model_year   make  \\\n",
       "0  5YJYGDEE1L       King    Seattle    WA      98122.0        2020  TESLA   \n",
       "1  7SAYGDEE9P  Snohomish    Bothell    WA      98021.0        2023  TESLA   \n",
       "2  5YJSA1E4XK       King    Seattle    WA      98109.0        2019  TESLA   \n",
       "3  5YJSA1E27G       King   Issaquah    WA      98027.0        2016  TESLA   \n",
       "4  5YJYGDEE5M     Kitsap  Suquamish    WA      98392.0        2021  TESLA   \n",
       "\n",
       "     model                         ev_type  \\\n",
       "0  MODEL Y  Battery Electric Vehicle (BEV)   \n",
       "1  MODEL Y  Battery Electric Vehicle (BEV)   \n",
       "2  MODEL S  Battery Electric Vehicle (BEV)   \n",
       "3  MODEL S  Battery Electric Vehicle (BEV)   \n",
       "4  MODEL Y  Battery Electric Vehicle (BEV)   \n",
       "\n",
       "                                    cafv_eligibility  range  base_msrp  \\\n",
       "0            Clean Alternative Fuel Vehicle Eligible    291          0   \n",
       "1  Eligibility unknown as battery range has not b...      0          0   \n",
       "2            Clean Alternative Fuel Vehicle Eligible    270          0   \n",
       "3            Clean Alternative Fuel Vehicle Eligible    210          0   \n",
       "4  Eligibility unknown as battery range has not b...      0          0   \n",
       "\n",
       "   district  dol_vehicle_id                       location  \\\n",
       "0      37.0       125701579   POINT (-122.30839 47.610365)   \n",
       "1       1.0       244285107  POINT (-122.179458 47.802589)   \n",
       "2      36.0       156773144   POINT (-122.34848 47.632405)   \n",
       "3       5.0       165103011   POINT (-122.03646 47.534065)   \n",
       "4      23.0       205138552   POINT (-122.55717 47.733415)   \n",
       "\n",
       "                                electric_utility  2020_census_tract  \n",
       "0   CITY OF SEATTLE - (WA)|CITY OF TACOMA - (WA)       5.303301e+10  \n",
       "1                         PUGET SOUND ENERGY INC       5.306105e+10  \n",
       "2   CITY OF SEATTLE - (WA)|CITY OF TACOMA - (WA)       5.303301e+10  \n",
       "3  PUGET SOUND ENERGY INC||CITY OF TACOMA - (WA)       5.303303e+10  \n",
       "4                         PUGET SOUND ENERGY INC       5.303594e+10  "
      ]
     },
     "execution_count": 75,
     "metadata": {},
     "output_type": "execute_result"
    }
   ],
   "source": [
    "ev_pop_df.head()\n"
   ]
  },
  {
   "cell_type": "markdown",
   "metadata": {},
   "source": [
    "### **A focus on `electric_utility` column**"
   ]
  },
  {
   "cell_type": "code",
   "execution_count": 76,
   "metadata": {},
   "outputs": [
    {
     "data": {
      "text/plain": [
       "array(['CITY OF SEATTLE - (WA)|CITY OF TACOMA - (WA)',\n",
       "       'PUGET SOUND ENERGY INC',\n",
       "       'PUGET SOUND ENERGY INC||CITY OF TACOMA - (WA)', 'PACIFICORP',\n",
       "       'PUD NO 1 OF CHELAN COUNTY', 'MODERN ELECTRIC WATER COMPANY',\n",
       "       'PUD NO 2 OF GRANT COUNTY', 'AVISTA CORP',\n",
       "       'PUD NO 1 OF PEND OREILLE COUNTY',\n",
       "       'BONNEVILLE POWER ADMINISTRATION||PUD NO 1 OF CLARK COUNTY - (WA)',\n",
       "       'BONNEVILLE POWER ADMINISTRATION||PUD NO 1 OF COWLITZ COUNTY',\n",
       "       'BONNEVILLE POWER ADMINISTRATION||PUD 1 OF SNOHOMISH COUNTY',\n",
       "       'BONNEVILLE POWER ADMINISTRATION||PUGET SOUND ENERGY INC||PUD NO 1 OF JEFFERSON COUNTY',\n",
       "       'NO KNOWN ELECTRIC UTILITY SERVICE',\n",
       "       'BONNEVILLE POWER ADMINISTRATION||PUD NO 1 OF MASON COUNTY|PUD NO 1 OF JEFFERSON COUNTY',\n",
       "       'BONNEVILLE POWER ADMINISTRATION||PACIFICORP||PUD NO 1 OF CLARK COUNTY - (WA)',\n",
       "       'BONNEVILLE POWER ADMINISTRATION||PACIFICORP||BENTON RURAL ELECTRIC ASSN',\n",
       "       'BONNEVILLE POWER ADMINISTRATION||PUD NO 1 OF CLALLAM COUNTY',\n",
       "       'BONNEVILLE POWER ADMINISTRATION||PUD NO 1 OF KLICKITAT COUNTY',\n",
       "       'BONNEVILLE POWER ADMINISTRATION||CITY OF PORT ANGELES - (WA)',\n",
       "       'CITY OF TACOMA - (WA)||TANNER ELECTRIC COOP',\n",
       "       'BONNEVILLE POWER ADMINISTRATION||CITY OF MILTON - (WA)|CITY OF TACOMA - (WA)',\n",
       "       'BONNEVILLE POWER ADMINISTRATION||PUD NO 1 OF CLALLAM COUNTY|PUD NO 1 OF JEFFERSON COUNTY',\n",
       "       'BONNEVILLE POWER ADMINISTRATION||CITY OF TACOMA - (WA)||PENINSULA LIGHT COMPANY',\n",
       "       'CITY OF TACOMA - (WA)', 'CITY OF CHEWELAH',\n",
       "       'BONNEVILLE POWER ADMINISTRATION||PUD NO 1 OF GRAYS HARBOR COUNTY',\n",
       "       'PUGET SOUND ENERGY INC||PUD NO 1 OF WHATCOM COUNTY',\n",
       "       'BONNEVILLE POWER ADMINISTRATION||PUD NO 1 OF SKAMANIA CO',\n",
       "       'BONNEVILLE POWER ADMINISTRATION||PUD NO 1 OF WAHKIAKUM COUNTY',\n",
       "       'BONNEVILLE POWER ADMINISTRATION||AVISTA CORP||INLAND POWER & LIGHT COMPANY',\n",
       "       'NON WASHINGTON STATE ELECTRIC UTILITY',\n",
       "       'BONNEVILLE POWER ADMINISTRATION||CITY OF RICHLAND - (WA)',\n",
       "       'BONNEVILLE POWER ADMINISTRATION||PUD NO 1 OF FRANKLIN COUNTY',\n",
       "       'BONNEVILLE POWER ADMINISTRATION||PUD NO 1 OF BENTON COUNTY',\n",
       "       'BONNEVILLE POWER ADMINISTRATION||ORCAS POWER & LIGHT COOP',\n",
       "       'BONNEVILLE POWER ADMINISTRATION||CITY OF TACOMA - (WA)||PUD NO 3 OF MASON COUNTY',\n",
       "       'BONNEVILLE POWER ADMINISTRATION||CITY OF TACOMA - (WA)||PUD NO 1 OF LEWIS COUNTY',\n",
       "       'BONNEVILLE POWER ADMINISTRATION||CITY OF TACOMA - (WA)||ELMHURST MUTUAL POWER & LIGHT CO|PENINSULA LIGHT COMPANY',\n",
       "       'BONNEVILLE POWER ADMINISTRATION||CITY OF ELLENSBURG - (WA)',\n",
       "       'PUD NO 1 OF OKANOGAN COUNTY',\n",
       "       'CITY OF BLAINE - (WA)||PUD NO 1 OF WHATCOM COUNTY',\n",
       "       'PUD NO 1 OF WHATCOM COUNTY',\n",
       "       'BONNEVILLE POWER ADMINISTRATION||CITY OF TACOMA - (WA)||LAKEVIEW LIGHT & POWER|PENINSULA LIGHT COMPANY',\n",
       "       'PUD NO 1 OF DOUGLAS COUNTY',\n",
       "       'BONNEVILLE POWER ADMINISTRATION||CITY OF TACOMA - (WA)||PARKLAND LIGHT & WATER COMPANY|PENINSULA LIGHT COMPANY',\n",
       "       'BONNEVILLE POWER ADMINISTRATION||AVISTA CORP||BIG BEND ELECTRIC COOP, INC',\n",
       "       'BONNEVILLE POWER ADMINISTRATION||CITY OF CENTRALIA - (WA)|CITY OF TACOMA - (WA)',\n",
       "       'BONNEVILLE POWER ADMINISTRATION||PUD NO 2 OF PACIFIC COUNTY',\n",
       "       'BONNEVILLE POWER ADMINISTRATION||PUD NO 1 OF KITTITAS COUNTY',\n",
       "       'BONNEVILLE POWER ADMINISTRATION||CITY OF TACOMA - (WA)||OHOP MUTUAL LIGHT COMPANY, INC|PENINSULA LIGHT COMPANY',\n",
       "       'BONNEVILLE POWER ADMINISTRATION||AVISTA CORP||PUD NO 1 OF ASOTIN COUNTY',\n",
       "       'BONNEVILLE POWER ADMINISTRATION||TOWN OF EATONVILLE - (WA)|CITY OF TACOMA - (WA)',\n",
       "       'CITY OF SEATTLE - (WA)',\n",
       "       'BONNEVILLE POWER ADMINISTRATION||VERA IRRIGATION DISTRICT #15',\n",
       "       'BONNEVILLE POWER ADMINISTRATION||CITY OF TACOMA - (WA)||ALDER MUTUAL LIGHT CO, INC|PENINSULA LIGHT COMPANY',\n",
       "       'BONNEVILLE POWER ADMINISTRATION||CITY OF TACOMA - (WA)||PUD NO 1 OF MASON COUNTY',\n",
       "       'BONNEVILLE POWER ADMINISTRATION||INLAND POWER & LIGHT COMPANY',\n",
       "       'BONNEVILLE POWER ADMINISTRATION||COLUMBIA RURAL ELEC ASSN, INC',\n",
       "       'BONNEVILLE POWER ADMINISTRATION||PACIFICORP||COLUMBIA RURAL ELEC ASSN, INC',\n",
       "       'CITY OF CHENEY - (WA)',\n",
       "       'BONNEVILLE POWER ADMINISTRATION||BIG BEND ELECTRIC COOP, INC',\n",
       "       'BONNEVILLE POWER ADMINISTRATION||TOWN OF STEILACOOM|CITY OF TACOMA - (WA)||PENINSULA LIGHT COMPANY',\n",
       "       'BONNEVILLE POWER ADMINISTRATION||CITY OF TACOMA - (WA)||BENTON RURAL ELECTRIC ASSN|PENINSULA LIGHT COMPANY',\n",
       "       'OKANOGAN COUNTY ELEC COOP, INC',\n",
       "       'BONNEVILLE POWER ADMINISTRATION||BENTON RURAL ELECTRIC ASSN',\n",
       "       'BONNEVILLE POWER ADMINISTRATION||CITY OF MCCLEARY - (WA)',\n",
       "       'CITY OF SUMAS - (WA)||PUD NO 1 OF WHATCOM COUNTY',\n",
       "       'BONNEVILLE POWER ADMINISTRATION||PUD NO 1 OF FERRY COUNTY',\n",
       "       'BONNEVILLE POWER ADMINISTRATION||PENINSULA LIGHT COMPANY',\n",
       "       'BONNEVILLE POWER ADMINISTRATION||NESPELEM VALLEY ELEC COOP, INC',\n",
       "       'PORTLAND GENERAL ELECTRIC CO',\n",
       "       'BONNEVILLE POWER ADMINISTRATION||TOWN OF RUSTON - (WA)|CITY OF TACOMA - (WA)||PENINSULA LIGHT COMPANY',\n",
       "       'BONNEVILLE POWER ADMINISTRATION||CITY OF COULEE DAM - (WA)',\n",
       "       'BONNEVILLE POWER ADMINISTRATION||PUD NO 1 OF ASOTIN COUNTY||INLAND POWER & LIGHT COMPANY',\n",
       "       nan,\n",
       "       'BONNEVILLE POWER ADMINISTRATION||PUD NO 1 OF JEFFERSON COUNTY'],\n",
       "      dtype=object)"
      ]
     },
     "execution_count": 76,
     "metadata": {},
     "output_type": "execute_result"
    }
   ],
   "source": [
    "ev_pop_df.electric_utility.unique()\n"
   ]
  },
  {
   "cell_type": "markdown",
   "metadata": {},
   "source": [
    "> Cleaning the `electric_utility` by removing `|` from the entries and add more columns for vehicles that had more than one charging station"
   ]
  },
  {
   "cell_type": "code",
   "execution_count": 77,
   "metadata": {},
   "outputs": [
    {
     "name": "stdout",
     "output_type": "stream",
     "text": [
      "<class 'pandas.core.frame.DataFrame'>\n",
      "RangeIndex: 177866 entries, 0 to 177865\n",
      "Data columns (total 22 columns):\n",
      " #   Column              Non-Null Count   Dtype  \n",
      "---  ------              --------------   -----  \n",
      " 0   vin                 177866 non-null  object \n",
      " 1   county              177861 non-null  object \n",
      " 2   city                177861 non-null  object \n",
      " 3   state               177866 non-null  object \n",
      " 4   postal_code         177861 non-null  float64\n",
      " 5   model_year          177866 non-null  int64  \n",
      " 6   make                177866 non-null  object \n",
      " 7   model               177866 non-null  object \n",
      " 8   ev_type             177866 non-null  object \n",
      " 9   cafv_eligibility    177866 non-null  object \n",
      " 10  range               177866 non-null  int64  \n",
      " 11  base_msrp           177866 non-null  int64  \n",
      " 12  district            177477 non-null  float64\n",
      " 13  dol_vehicle_id      177866 non-null  int64  \n",
      " 14  location            177857 non-null  object \n",
      " 15  2020_census_tract   177861 non-null  float64\n",
      " 16  electric_utility_0  177861 non-null  object \n",
      " 17  electric_utility_1  136129 non-null  object \n",
      " 18  electric_utility_2  104748 non-null  object \n",
      " 19  electric_utility_3  14674 non-null   object \n",
      " 20  electric_utility_4  14317 non-null   object \n",
      " 21  electric_utility_5  1117 non-null    object \n",
      "dtypes: float64(3), int64(4), object(15)\n",
      "memory usage: 29.9+ MB\n"
     ]
    }
   ],
   "source": [
    "def clean_electric_utility(ev_pop_df):\n",
    "    electric_utility_col = ev_pop_df['electric_utility']\n",
    "    electric_utility_col_split = (electric_utility_col\n",
    "                                  .str.split(pat='|', expand=True)\n",
    "                                  .add_prefix('electric_utility_')\n",
    "                                  )\n",
    "    ev_pop_df = (pd\n",
    "                 .concat([ev_pop_df,electric_utility_col_split],axis=1)\n",
    "                 .drop(columns='electric_utility')\n",
    "                 )\n",
    "    return ev_pop_df\n",
    "ev_pop_df = clean_electric_utility(ev_pop_df.copy())\n",
    "ev_pop_df.info()\n"
   ]
  },
  {
   "cell_type": "markdown",
   "metadata": {},
   "source": [
    "### **A focus on `location` column**"
   ]
  },
  {
   "cell_type": "code",
   "execution_count": 78,
   "metadata": {},
   "outputs": [
    {
     "name": "stdout",
     "output_type": "stream",
     "text": [
      "<class 'pandas.core.frame.DataFrame'>\n",
      "RangeIndex: 177866 entries, 0 to 177865\n",
      "Data columns (total 23 columns):\n",
      " #   Column              Non-Null Count   Dtype  \n",
      "---  ------              --------------   -----  \n",
      " 0   vin                 177866 non-null  object \n",
      " 1   county              177861 non-null  object \n",
      " 2   city                177861 non-null  object \n",
      " 3   state               177866 non-null  object \n",
      " 4   postal_code         177861 non-null  float64\n",
      " 5   model_year          177866 non-null  int64  \n",
      " 6   make                177866 non-null  object \n",
      " 7   model               177866 non-null  object \n",
      " 8   ev_type             177866 non-null  object \n",
      " 9   cafv_eligibility    177866 non-null  object \n",
      " 10  range               177866 non-null  int64  \n",
      " 11  base_msrp           177866 non-null  int64  \n",
      " 12  district            177477 non-null  float64\n",
      " 13  dol_vehicle_id      177866 non-null  int64  \n",
      " 14  2020_census_tract   177861 non-null  float64\n",
      " 15  electric_utility_0  177861 non-null  object \n",
      " 16  electric_utility_1  136129 non-null  object \n",
      " 17  electric_utility_2  104748 non-null  object \n",
      " 18  electric_utility_3  14674 non-null   object \n",
      " 19  electric_utility_4  14317 non-null   object \n",
      " 20  electric_utility_5  1117 non-null    object \n",
      " 21  longitude           177857 non-null  float64\n",
      " 22  latitude            177857 non-null  float64\n",
      "dtypes: float64(5), int64(4), object(14)\n",
      "memory usage: 31.2+ MB\n"
     ]
    }
   ],
   "source": [
    "ev_pop_df['location'] = ev_pop_df['location'].str.strip('POINT()')\n",
    "ev_pop_df[['longitude','latitude']] = ev_pop_df['location'].str.split(expand=True)\n",
    "ev_pop_df['longitude'] = ev_pop_df['longitude'].str.strip('(').astype(float)\n",
    "ev_pop_df['latitude'] = ev_pop_df['latitude'].astype(float)\n",
    "ev_pop_df = ev_pop_df.drop(columns='location')\n",
    "ev_pop_df.info()\n"
   ]
  },
  {
   "cell_type": "markdown",
   "metadata": {},
   "source": [
    "### **Partitioning Data to various table**"
   ]
  },
  {
   "cell_type": "code",
   "execution_count": 79,
   "metadata": {},
   "outputs": [
    {
     "name": "stdout",
     "output_type": "stream",
     "text": [
      "<class 'pandas.core.frame.DataFrame'>\n",
      "RangeIndex: 177866 entries, 0 to 177865\n",
      "Data columns (total 7 columns):\n",
      " #   Column            Non-Null Count   Dtype \n",
      "---  ------            --------------   ----- \n",
      " 0   vin               177866 non-null  object\n",
      " 1   make              177866 non-null  object\n",
      " 2   model             177866 non-null  object\n",
      " 3   model_year        177866 non-null  int32 \n",
      " 4   ev_type           177866 non-null  object\n",
      " 5   cafv_eligibility  177866 non-null  object\n",
      " 6   range             177866 non-null  int32 \n",
      "dtypes: int32(2), object(5)\n",
      "memory usage: 8.1+ MB\n"
     ]
    }
   ],
   "source": [
    "## Table 1\n",
    "vehicles = ev_pop_df[['vin','make','model','model_year','ev_type','cafv_eligibility','range']]\n",
    "vehicles = (vehicles\n",
    "            .assign(model_year = lambda x: x.model_year.astype('int32'),\n",
    "                    range = lambda x: x.range.astype('int32')\n",
    "                    )\n",
    "            )\n",
    "vehicles.to_csv('vehicles.csv',index=False)\n",
    "vehicles.info()\n"
   ]
  },
  {
   "cell_type": "code",
   "execution_count": 80,
   "metadata": {},
   "outputs": [
    {
     "name": "stdout",
     "output_type": "stream",
     "text": [
      "<class 'pandas.core.frame.DataFrame'>\n",
      "RangeIndex: 177866 entries, 0 to 177865\n",
      "Data columns (total 5 columns):\n",
      " #   Column     Non-Null Count   Dtype  \n",
      "---  ------     --------------   -----  \n",
      " 0   vin        177866 non-null  object \n",
      " 1   longitude  177857 non-null  float64\n",
      " 2   latitude   177857 non-null  float64\n",
      " 3   county     177861 non-null  object \n",
      " 4   city       177861 non-null  object \n",
      "dtypes: float64(2), object(3)\n",
      "memory usage: 6.8+ MB\n"
     ]
    }
   ],
   "source": [
    "## Table 2\n",
    "location = ev_pop_df[['vin','longitude','latitude','county','city']]\n",
    "location = (location\n",
    "            .assign(longitude=lambda x: x.longitude.astype('float64'),\n",
    "                    latitude=lambda x: x.latitude.astype('float64'),\n",
    "                    )\n",
    "            )\n",
    "location.to_csv('location.csv',index=False)\n",
    "location.info()\n"
   ]
  },
  {
   "cell_type": "code",
   "execution_count": 81,
   "metadata": {},
   "outputs": [
    {
     "name": "stdout",
     "output_type": "stream",
     "text": [
      "<class 'pandas.core.frame.DataFrame'>\n",
      "RangeIndex: 177866 entries, 0 to 177865\n",
      "Data columns (total 7 columns):\n",
      " #   Column              Non-Null Count   Dtype \n",
      "---  ------              --------------   ----- \n",
      " 0   vin                 177866 non-null  object\n",
      " 1   electric_utility_0  177861 non-null  object\n",
      " 2   electric_utility_1  136129 non-null  object\n",
      " 3   electric_utility_2  104748 non-null  object\n",
      " 4   electric_utility_3  14674 non-null   object\n",
      " 5   electric_utility_4  14317 non-null   object\n",
      " 6   electric_utility_5  1117 non-null    object\n",
      "dtypes: object(7)\n",
      "memory usage: 9.5+ MB\n"
     ]
    }
   ],
   "source": [
    "## Table 3\n",
    "charging_stations = ev_pop_df[['vin','electric_utility_0','electric_utility_1',\n",
    "                               'electric_utility_2','electric_utility_3',\n",
    "                               'electric_utility_4','electric_utility_5']]\n",
    "charging_stations.to_csv('charging_stations.csv', index=False)\n",
    "charging_stations.info()\n"
   ]
  },
  {
   "cell_type": "markdown",
   "metadata": {},
   "source": [
    "### **Store data in a sql database**"
   ]
  },
  {
   "cell_type": "code",
   "execution_count": 82,
   "metadata": {},
   "outputs": [],
   "source": [
    "vehicles = pd.read_csv('vehicles.csv')\n",
    "location = pd.read_csv('location.csv')\n",
    "charging_stations = pd.read_csv('charging_stations.csv')\n"
   ]
  },
  {
   "cell_type": "code",
   "execution_count": 83,
   "metadata": {},
   "outputs": [],
   "source": [
    "conn = sqlite3.connect('washington_electric_vehicle_population.db')\n",
    "vehicles.to_sql('vehicles', conn,if_exists='replace',index=False)\n",
    "location.to_sql('location',conn,if_exists='replace',index=False)\n",
    "charging_stations.to_sql('charging_stations',conn,if_exists='replace',index=False)\n",
    "conn.close()\n"
   ]
  },
  {
   "cell_type": "markdown",
   "metadata": {},
   "source": [
    "## **Cleaning the history dataset to only accommodate 2020 data**"
   ]
  },
  {
   "cell_type": "code",
   "execution_count": 84,
   "metadata": {},
   "outputs": [
    {
     "name": "stdout",
     "output_type": "stream",
     "text": [
      "<class 'pandas.core.frame.DataFrame'>\n",
      "RangeIndex: 86 entries, 0 to 85\n",
      "Data columns (total 4 columns):\n",
      " #   Column                                        Non-Null Count  Dtype \n",
      "---  ------                                        --------------  ----- \n",
      " 0   Date                                          86 non-null     object\n",
      " 1   Plug-In Hybrid Electric Vehicle (PHEV) Count  86 non-null     int64 \n",
      " 2   Battery Electric Vehicle (BEV) Count          86 non-null     int64 \n",
      " 3   Electric Vehicle (EV) Total                   86 non-null     int64 \n",
      "dtypes: int64(3), object(1)\n",
      "memory usage: 2.8+ KB\n"
     ]
    }
   ],
   "source": [
    "history_data = pd.read_csv(r'Electric_Vehicle_Population_Size_History_20240418.csv')\n",
    "history_data.info()\n"
   ]
  },
  {
   "cell_type": "markdown",
   "metadata": {},
   "source": [
    "> A focus on the `Date` column to ensure the correct data formatting is being used\n"
   ]
  },
  {
   "cell_type": "code",
   "execution_count": 85,
   "metadata": {},
   "outputs": [
    {
     "name": "stdout",
     "output_type": "stream",
     "text": [
      "<class 'pandas.core.frame.DataFrame'>\n",
      "RangeIndex: 86 entries, 0 to 85\n",
      "Data columns (total 4 columns):\n",
      " #   Column                                        Non-Null Count  Dtype         \n",
      "---  ------                                        --------------  -----         \n",
      " 0   Date                                          86 non-null     datetime64[ns]\n",
      " 1   Plug-In Hybrid Electric Vehicle (PHEV) Count  86 non-null     int64         \n",
      " 2   Battery Electric Vehicle (BEV) Count          86 non-null     int64         \n",
      " 3   Electric Vehicle (EV) Total                   86 non-null     int64         \n",
      "dtypes: datetime64[ns](1), int64(3)\n",
      "memory usage: 2.8 KB\n"
     ]
    }
   ],
   "source": [
    "history_data['Date'] = pd.to_datetime(history_data['Date'], format='%B %d %Y')\n",
    "history_data = (history_data\n",
    "                .assign(Date = lambda x: x.Date.dt.date)\n",
    "                )\n",
    "history_data['Date'] = pd.to_datetime(history_data['Date'])\n",
    "history_data.info() \n"
   ]
  },
  {
   "cell_type": "code",
   "execution_count": 86,
   "metadata": {},
   "outputs": [
    {
     "data": {
      "text/html": [
       "<div>\n",
       "<style scoped>\n",
       "    .dataframe tbody tr th:only-of-type {\n",
       "        vertical-align: middle;\n",
       "    }\n",
       "\n",
       "    .dataframe tbody tr th {\n",
       "        vertical-align: top;\n",
       "    }\n",
       "\n",
       "    .dataframe thead th {\n",
       "        text-align: right;\n",
       "    }\n",
       "</style>\n",
       "<table border=\"1\" class=\"dataframe\">\n",
       "  <thead>\n",
       "    <tr style=\"text-align: right;\">\n",
       "      <th></th>\n",
       "      <th>date</th>\n",
       "      <th>phev_count</th>\n",
       "      <th>bev_count</th>\n",
       "      <th>ev_total_count</th>\n",
       "    </tr>\n",
       "  </thead>\n",
       "  <tbody>\n",
       "    <tr>\n",
       "      <th>0</th>\n",
       "      <td>2024-02-29</td>\n",
       "      <td>38656</td>\n",
       "      <td>139210</td>\n",
       "      <td>177866</td>\n",
       "    </tr>\n",
       "    <tr>\n",
       "      <th>1</th>\n",
       "      <td>2024-01-31</td>\n",
       "      <td>38166</td>\n",
       "      <td>136494</td>\n",
       "      <td>174660</td>\n",
       "    </tr>\n",
       "    <tr>\n",
       "      <th>2</th>\n",
       "      <td>2023-12-31</td>\n",
       "      <td>37142</td>\n",
       "      <td>132362</td>\n",
       "      <td>169504</td>\n",
       "    </tr>\n",
       "    <tr>\n",
       "      <th>3</th>\n",
       "      <td>2023-11-30</td>\n",
       "      <td>36533</td>\n",
       "      <td>129084</td>\n",
       "      <td>165617</td>\n",
       "    </tr>\n",
       "    <tr>\n",
       "      <th>4</th>\n",
       "      <td>2023-10-31</td>\n",
       "      <td>35888</td>\n",
       "      <td>125977</td>\n",
       "      <td>161865</td>\n",
       "    </tr>\n",
       "  </tbody>\n",
       "</table>\n",
       "</div>"
      ],
      "text/plain": [
       "        date  phev_count  bev_count  ev_total_count\n",
       "0 2024-02-29       38656     139210          177866\n",
       "1 2024-01-31       38166     136494          174660\n",
       "2 2023-12-31       37142     132362          169504\n",
       "3 2023-11-30       36533     129084          165617\n",
       "4 2023-10-31       35888     125977          161865"
      ]
     },
     "execution_count": 86,
     "metadata": {},
     "output_type": "execute_result"
    }
   ],
   "source": [
    "history_data = (history_data.rename(columns={\n",
    "    'Date':'date',\n",
    "    'Plug-In Hybrid Electric Vehicle (PHEV) Count':'phev_count',\n",
    "    'Battery Electric Vehicle (BEV) Count':'bev_count',\n",
    "    'Electric Vehicle (EV) Total':'ev_total_count',\n",
    "                                             }\n",
    "                                    )\n",
    "                )\n",
    "history_data.to_csv('history_data.csv',index=False)\n",
    "history_data.head()\n"
   ]
  }
 ],
 "metadata": {
  "kernelspec": {
   "display_name": "Python 3",
   "language": "python",
   "name": "python3"
  },
  "language_info": {
   "codemirror_mode": {
    "name": "ipython",
    "version": 3
   },
   "file_extension": ".py",
   "mimetype": "text/x-python",
   "name": "python",
   "nbconvert_exporter": "python",
   "pygments_lexer": "ipython3",
   "version": "3.12.3"
  }
 },
 "nbformat": 4,
 "nbformat_minor": 2
}
